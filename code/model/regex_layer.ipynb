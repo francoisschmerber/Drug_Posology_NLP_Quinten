{
 "cells": [
  {
   "cell_type": "code",
   "execution_count": 136,
   "metadata": {},
   "outputs": [],
   "source": [
    "import pandas as pd\n",
    "import numpy as np\n",
    "import re"
   ]
  },
  {
   "cell_type": "code",
   "execution_count": 137,
   "metadata": {},
   "outputs": [],
   "source": [
    "df = pd.read_csv(\"sylvain_aigris (3).csv\")"
   ]
  },
  {
   "cell_type": "code",
   "execution_count": 138,
   "metadata": {},
   "outputs": [
    {
     "data": {
      "text/html": [
       "<div>\n",
       "<style scoped>\n",
       "    .dataframe tbody tr th:only-of-type {\n",
       "        vertical-align: middle;\n",
       "    }\n",
       "\n",
       "    .dataframe tbody tr th {\n",
       "        vertical-align: top;\n",
       "    }\n",
       "\n",
       "    .dataframe thead th {\n",
       "        text-align: right;\n",
       "    }\n",
       "</style>\n",
       "<table border=\"1\" class=\"dataframe\">\n",
       "  <thead>\n",
       "    <tr style=\"text-align: right;\">\n",
       "      <th></th>\n",
       "      <th>TokenId</th>\n",
       "      <th>token</th>\n",
       "      <th>label</th>\n",
       "    </tr>\n",
       "  </thead>\n",
       "  <tbody>\n",
       "    <tr>\n",
       "      <th>0</th>\n",
       "      <td>0</td>\n",
       "      <td>Le</td>\n",
       "      <td>5</td>\n",
       "    </tr>\n",
       "    <tr>\n",
       "      <th>1</th>\n",
       "      <td>1</td>\n",
       "      <td>cas</td>\n",
       "      <td>5</td>\n",
       "    </tr>\n",
       "    <tr>\n",
       "      <th>2</th>\n",
       "      <td>2</td>\n",
       "      <td>présenté</td>\n",
       "      <td>5</td>\n",
       "    </tr>\n",
       "    <tr>\n",
       "      <th>3</th>\n",
       "      <td>3</td>\n",
       "      <td>concerne</td>\n",
       "      <td>5</td>\n",
       "    </tr>\n",
       "    <tr>\n",
       "      <th>4</th>\n",
       "      <td>4</td>\n",
       "      <td>un</td>\n",
       "      <td>5</td>\n",
       "    </tr>\n",
       "  </tbody>\n",
       "</table>\n",
       "</div>"
      ],
      "text/plain": [
       "   TokenId     token  label\n",
       "0        0        Le      5\n",
       "1        1       cas      5\n",
       "2        2  présenté      5\n",
       "3        3  concerne      5\n",
       "4        4        un      5"
      ]
     },
     "execution_count": 138,
     "metadata": {},
     "output_type": "execute_result"
    }
   ],
   "source": [
    "df = df[[\"TokenId\", \"token\", \"label\"]]\n",
    "df.head()"
   ]
  },
  {
   "cell_type": "code",
   "execution_count": 130,
   "metadata": {},
   "outputs": [],
   "source": [
    "labels = []\n",
    "n = len(df[\"token\"].to_list())\n",
    "tk_list = df[\"token\"].to_list()\n",
    "label_list = df[\"label\"].to_list()\n",
    "for i, token in enumerate(df[\"token\"].to_list()):\n",
    "    label = label_list[i]\n",
    "    if (i<n-1 and label != 5):\n",
    "        if (token == \"en\" and label_list[i]==1 and label_list[i+1]!=1):\n",
    "            label = 5\n",
    "        if (token in [\",\",\"(\",\")\",\";\",\".\"]):\n",
    "            label = 5\n",
    "        if (token in [\"g\", \"mg\", \"ml\", \"mL\"] or token.lower() in [\"gray\", \"gy\", \"grays\"] or (re.search(\"[0-9]+\", token) and tk_list[i+1] in [\"g\", \"mg\", \"ml\", \"mL\"])):\n",
    "            label = 0\n",
    "        elif (re.search(\"(ine|one|ol|o[iï]de|[iï]que|épam)$\", token) or token == \"acide\"):\n",
    "            label = 1\n",
    "        elif (token in [\"jours\", \"semaines\", \"mois\"] or (re.search(\"[0-9]+\", token) and tk_list[i+1] in [\"jours\", \"semaines\", \"mois\"]) or (token == \"pendant\" and label_list[i+1]==2)):\n",
    "            label = 2\n",
    "        elif (re.search(\"^(ampoule|comprimé|pommade)\", token)):\n",
    "            label = 3\n",
    "        elif (token in ['par', 'jour', 'heure', 'jr'] or (token in [\"par\", \"/\"] and tk_list[i+1] in ['jour', 'heure', 'jr']) or tk_list[i+1] == 'fois' or (token == \"toutes\" and label_list[i+1]==4)):\n",
    "            label = 4\n",
    "        elif (token in [\"voie\", \"orale\", \"intraveineuse\", \"inguinale\", \"anale\", \"orale\", \"perfusion\"] or (token == \"par\" and tk_list[i+1] == \"voie\")):\n",
    "            label = 6\n",
    "        elif (re.search(\"th[ée]rapie\", token)):\n",
    "            label = 7\n",
    "    labels.append(label)"
   ]
  },
  {
   "cell_type": "code",
   "execution_count": 131,
   "metadata": {},
   "outputs": [
    {
     "data": {
      "text/plain": [
       "32557"
      ]
     },
     "execution_count": 131,
     "metadata": {},
     "output_type": "execute_result"
    }
   ],
   "source": [
    "len(labels)"
   ]
  },
  {
   "cell_type": "code",
   "execution_count": 133,
   "metadata": {},
   "outputs": [],
   "source": [
    "d = {'TokenId': df[\"TokenId\"].to_list(), 'Predicted': labels}"
   ]
  },
  {
   "cell_type": "code",
   "execution_count": 134,
   "metadata": {},
   "outputs": [
    {
     "data": {
      "text/html": [
       "<div>\n",
       "<style scoped>\n",
       "    .dataframe tbody tr th:only-of-type {\n",
       "        vertical-align: middle;\n",
       "    }\n",
       "\n",
       "    .dataframe tbody tr th {\n",
       "        vertical-align: top;\n",
       "    }\n",
       "\n",
       "    .dataframe thead th {\n",
       "        text-align: right;\n",
       "    }\n",
       "</style>\n",
       "<table border=\"1\" class=\"dataframe\">\n",
       "  <thead>\n",
       "    <tr style=\"text-align: right;\">\n",
       "      <th></th>\n",
       "      <th>TokenId</th>\n",
       "      <th>Predicted</th>\n",
       "    </tr>\n",
       "  </thead>\n",
       "  <tbody>\n",
       "    <tr>\n",
       "      <th>0</th>\n",
       "      <td>0</td>\n",
       "      <td>5</td>\n",
       "    </tr>\n",
       "    <tr>\n",
       "      <th>1</th>\n",
       "      <td>1</td>\n",
       "      <td>5</td>\n",
       "    </tr>\n",
       "    <tr>\n",
       "      <th>2</th>\n",
       "      <td>2</td>\n",
       "      <td>5</td>\n",
       "    </tr>\n",
       "    <tr>\n",
       "      <th>3</th>\n",
       "      <td>3</td>\n",
       "      <td>5</td>\n",
       "    </tr>\n",
       "    <tr>\n",
       "      <th>4</th>\n",
       "      <td>4</td>\n",
       "      <td>5</td>\n",
       "    </tr>\n",
       "  </tbody>\n",
       "</table>\n",
       "</div>"
      ],
      "text/plain": [
       "   TokenId  Predicted\n",
       "0        0          5\n",
       "1        1          5\n",
       "2        2          5\n",
       "3        3          5\n",
       "4        4          5"
      ]
     },
     "execution_count": 134,
     "metadata": {},
     "output_type": "execute_result"
    }
   ],
   "source": [
    "preds = pd.DataFrame(d)\n",
    "preds.head()"
   ]
  },
  {
   "cell_type": "code",
   "execution_count": 135,
   "metadata": {},
   "outputs": [],
   "source": [
    "preds.to_csv('preds_quinten.csv', index=False)"
   ]
  }
 ],
 "metadata": {
  "kernelspec": {
   "display_name": "Python 3.9.7 ('base')",
   "language": "python",
   "name": "python3"
  },
  "language_info": {
   "codemirror_mode": {
    "name": "ipython",
    "version": 3
   },
   "file_extension": ".py",
   "mimetype": "text/x-python",
   "name": "python",
   "nbconvert_exporter": "python",
   "pygments_lexer": "ipython3",
   "version": "3.9.7"
  },
  "orig_nbformat": 4,
  "vscode": {
   "interpreter": {
    "hash": "6f9febdae170d9f9b36e49a1f845449fc0abe0ae3959b869486f76ea0bdbbb1e"
   }
  }
 },
 "nbformat": 4,
 "nbformat_minor": 2
}
