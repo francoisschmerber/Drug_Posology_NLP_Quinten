{
 "cells": [
  {
   "cell_type": "code",
   "execution_count": 113,
   "metadata": {},
   "outputs": [],
   "source": [
    "import pandas as pd\n",
    "import numpy as np\n",
    "\n",
    "from synonymes.synonymes import cnrtl, larousse, synonymo, linternaute \n",
    "\n",
    "import warnings\n",
    "warnings.filterwarnings(\"ignore\")"
   ]
  },
  {
   "cell_type": "code",
   "execution_count": 106,
   "metadata": {},
   "outputs": [],
   "source": [
    "data = pd.read_parquet('data/tokens_v4.parquet')"
   ]
  },
  {
   "cell_type": "code",
   "execution_count": 107,
   "metadata": {},
   "outputs": [
    {
     "name": "stderr",
     "output_type": "stream",
     "text": [
      "[nltk_data] Downloading package stopwords to\n",
      "[nltk_data]     C:\\Users\\tkess\\AppData\\Roaming\\nltk_data...\n",
      "[nltk_data]   Package stopwords is already up-to-date!\n"
     ]
    }
   ],
   "source": [
    "import nltk\n",
    "from nltk.corpus import stopwords\n",
    "nltk.download('stopwords')\n",
    "stopwords = stopwords.words('french')"
   ]
  },
  {
   "cell_type": "code",
   "execution_count": 108,
   "metadata": {},
   "outputs": [],
   "source": [
    "    def synonymize_from_dic(word, dic):\n",
    "        if word.isalpha() and word.lower() not in stopwords:\n",
    "            synonyms = cnrtl(word)\n",
    "            n = len(synonyms)\n",
    "            if n > 0:\n",
    "                r = np.random.randint(0,n)\n",
    "                synonym = synonyms[r]\n",
    "                return synonym\n",
    "            else:\n",
    "                return 'No synonym found'\n",
    "        return 'No synonym found'"
   ]
  },
  {
   "cell_type": "code",
   "execution_count": 109,
   "metadata": {
    "scrolled": true
   },
   "outputs": [],
   "source": [
    "def synonymize_sentence(data, id_phrase):\n",
    "\n",
    "    df = data[data['id_phrase'] == id_phrase]  \n",
    "\n",
    "    if df['label'].nunique() > 1:\n",
    "\n",
    "        df_lab = df[df['label'] != 'O']\n",
    "\n",
    "        index = list(df_lab.index)\n",
    "        lab_start = index[0]\n",
    "        lab_end = index[-1]\n",
    "        lab_amplitude = lab_end - lab_start\n",
    "\n",
    "        if lab_amplitude < 50:\n",
    "\n",
    "            wind_start = max(df.index[0], lab_start - 20)\n",
    "            wind_end = min(df.index[-1], lab_end + 20)\n",
    "            df_window = df.loc[wind_start : wind_end]\n",
    "\n",
    "            proba = df_lab.shape[0] / lab_amplitude\n",
    "            new_words = df_window['token'].copy()\n",
    "\n",
    "            for row in range(wind_start, wind_end + 1):\n",
    "                if df_window.loc[row].label == 'O':\n",
    "                    dash = df_window.loc[row].token.startswith(chr(9601))\n",
    "                    word = df_window.loc[row].token.replace(chr(9601), '')\n",
    "                    synonym = synonymize_from_dic(word, cnrtl)\n",
    "                    if synonym != 'No synonym found':\n",
    "                        if dash:\n",
    "                            new_words.loc[row] = chr(9601) + synonym\n",
    "                        else:\n",
    "                            new_words.loc[row] = synonym\n",
    "\n",
    "            df_window['synonym'] = new_words\n",
    "            \n",
    "            return df_window\n",
    "            \n",
    "    return 'No synonymization available'"
   ]
  }
 ],
 "metadata": {
  "kernelspec": {
   "display_name": "Python 3",
   "language": "python",
   "name": "python3"
  },
  "language_info": {
   "codemirror_mode": {
    "name": "ipython",
    "version": 3
   },
   "file_extension": ".py",
   "mimetype": "text/x-python",
   "name": "python",
   "nbconvert_exporter": "python",
   "pygments_lexer": "ipython3",
   "version": "3.7.6"
  }
 },
 "nbformat": 4,
 "nbformat_minor": 4
}
